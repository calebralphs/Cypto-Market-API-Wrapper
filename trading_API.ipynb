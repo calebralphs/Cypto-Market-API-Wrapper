{
 "cells": [
  {
   "cell_type": "markdown",
   "metadata": {},
   "source": [
    "### Imports"
   ]
  },
  {
   "cell_type": "code",
   "execution_count": 20,
   "metadata": {
    "collapsed": false
   },
   "outputs": [],
   "source": [
    "import http.client\n",
    "import urllib.request\n",
    "import json\n",
    "import datetime\n",
    "import time\n",
    "import csv\n",
    "\n",
    "import sqlite3 as sql"
   ]
  },
  {
   "cell_type": "markdown",
   "metadata": {},
   "source": [
    "# Bittrex"
   ]
  },
  {
   "cell_type": "markdown",
   "metadata": {},
   "source": [
    "### API Keys"
   ]
  },
  {
   "cell_type": "code",
   "execution_count": 4,
   "metadata": {
    "collapsed": true
   },
   "outputs": [],
   "source": [
    "API_KEY = 'xxx'\n",
    "API_SECRET = 'xxx'"
   ]
  },
  {
   "cell_type": "markdown",
   "metadata": {},
   "source": [
    "### Bittrex API Wrapper"
   ]
  },
  {
   "cell_type": "code",
   "execution_count": 14,
   "metadata": {
    "collapsed": false
   },
   "outputs": [],
   "source": [
    "public_methods = ['getmarkets', 'getcurrencies', 'getticker', 'getmarketsummaries', 'getmarketsummary', 'getorderbook', 'getmarkethistory']\n",
    "generic_methods = ['getmarkets', 'getcurrencies', 'getmarketsummaries']\n",
    "specific_methods = ['getticker', 'getmarketsummary', 'getorderbook', 'getmarkethistory']\n",
    "\n",
    "class bittrex(object):\n",
    "    \n",
    "    # CONSTRUCTOR\n",
    "    \n",
    "    def __init__(self, key = None, secret = None):\n",
    "        self.key = key\n",
    "        self.secret = secret\n",
    "        api_url = '?apikey=' + self.key\n",
    "    \n",
    "    # PUBLIC API METHODS\n",
    "    \n",
    "    public_url = 'https://bittrex.com/api/v1.1/public/'\n",
    "    \n",
    "    def getMarkets(self):\n",
    "        url = public_url + 'getmarkets'\n",
    "        r = urllib.request.urlopen(url)\n",
    "        if json.loads(r.read())['sucess']:\n",
    "            result = json.loads(r.read())['result']\n",
    "            markets = []\n",
    "            for market in result:\n",
    "                if json.loads(market)['active']:\n",
    "                    markets.append((json.loads(market)['BaseCurrency'], json.loads(market)['MarketCurrency']))\n",
    "            return markets\n",
    "        else:\n",
    "            raise Exception('Unsucessful Request')\n",
    "            return None\n",
    "    \n",
    "    def getCurrencies(self):\n",
    "        url = public_url + 'getcurrencies'\n",
    "        r = urllib.request.urlopen(url)\n",
    "        if json.loads(r.read())['sucess']:\n",
    "            result = json.loads(r.read())['result']\n",
    "            currencies = []\n",
    "            for currency in result:\n",
    "                currencies.append(json.loads(currency)['Currency'])\n",
    "            return currencies\n",
    "        else:\n",
    "            raise Exception('Unsucessful Request')\n",
    "            return None\n",
    "    \n",
    "    def getTicker(self, base, market):\n",
    "        url = public_url + 'getticker?market=' + base + '-' + market\n",
    "        r = urllib.request.urlopen(url)\n",
    "        if json.loads(r.read())['sucess']:\n",
    "            result = json.loads(json.loads(r.read())['result'])\n",
    "            return result['Bid'], result['Ask'], result['Last']\n",
    "        else:\n",
    "            raise Exception('Unsucessful Request')\n",
    "            return None\n",
    "    \n",
    "    def getMarketSummary(self, base, market):\n",
    "        url = public_url + 'getmarketsummary?market=' + base + '-' + market\n",
    "        r = urllib.request.urlopen(url)\n",
    "        if json.loads(r.read())['sucess']:\n",
    "            result = json.loads(json.loads(r.read())['result'])\n",
    "            return result['High'], result['Low'], result['BaseVolume']\n",
    "        else:\n",
    "            raise Exception('Unsucessful Request')\n",
    "            return None\n",
    "    \n",
    "    def getOrderBook(self, base, market, order):\n",
    "        url = public_url + 'getmarketsummary?market=' + base + '-' + market + '&type=' + order\n",
    "        r = urllib.request.urlopen(url)\n",
    "        if json.loads(r.read())['sucess']:\n",
    "            result = json.loads(r.read())['result']\n",
    "            buys = []\n",
    "            for buy in json.loads(result)['buy']:\n",
    "                buys.append((json.loads(buy)['Quantity'], json.loads(buy)['Rate']))\n",
    "            sells = []\n",
    "            for sell in json.loads(result)['sell']:\n",
    "                sells.append((json.loads(buy)['Quantity'], json.loads(buy)['Rate']))\n",
    "            return buys, sells\n",
    "        else:\n",
    "            raise Exception('Unsucessful Request')\n",
    "            return None\n",
    "    \n",
    "    def getOpenOrders(self, base, market):\n",
    "        url = public_url + 'getopenorders?market=' + base + '-' + market\n",
    "        r = urllib.request.urlopen(url)\n",
    "        if json.loads(r.read())['sucess']:\n",
    "            result = json.loads(r.read())['result']\n",
    "            limit_buys = []\n",
    "            limit_sells = []\n",
    "            for order in result:\n",
    "                order = json.loads(order)\n",
    "                if order['OrderType'] is 'LIMIT_BUY':\n",
    "                    limit_buys.append(order['Quantity'], order['Price'])\n",
    "                elif json.loads(order)['OrderType'] is 'LIMIT_SELL':\n",
    "                    limit_sells.append(order['Quantity'], order['Price'])\n",
    "            return limit_buys, limit_sells\n",
    "        else:\n",
    "            raise Exception('Unsucessful Request')\n",
    "            return None\n",
    "    \n",
    "    # MARKET API METHODS\n",
    "    \n",
    "    \n",
    "    # ACCOUNT API METHODS\n",
    "    \n",
    "    account_url = 'https://bittrex.com/api/v1.1/account/'\n",
    "    \n",
    "    def getBalances(self):\n",
    "        url = account_url + 'getbalances' + api_url\n",
    "        r = urllib.request.urlopen(url)\n",
    "        if json.loads(r.read())['sucess']:\n",
    "            result = json.loads(r.read())['result']\n",
    "            balances = []\n",
    "            for currency in result:\n",
    "                if json.loads(balance)['Balance'] > 0:\n",
    "                    currency = json.loads(currency)\n",
    "                    balances.append((currency['Currency'], currency['Balance'], currency['Avaliable']))\n",
    "            return balances\n",
    "        else:\n",
    "            raise Exception('Unsucessful Request')\n",
    "            return None\n",
    "    \n",
    "    def getBalance(self, currency):\n",
    "        url = account_url + 'getbalance' + api_url + '&currency=' + currency\n",
    "        r = urllib.request.urlopen(url)\n",
    "        if json.loads(r.read())['sucess']:\n",
    "            result = json.loads(r.read())['result']\n",
    "            return (json.loads(result)['Balance'], json.loads(result)['Avaliable'])\n",
    "        else:\n",
    "            raise Exception('Unsucessful Request')\n",
    "            return None\n",
    "    \n",
    "    def getOrder(self, uuid):\n",
    "        url = account_url + 'getorder' + api_url + '&uuid=' + uuid\n",
    "        r = urllib.request.urlopen(url)\n",
    "        if json.loads(r.read())['sucess']:\n",
    "            result = json.loads(json.loads(r.read())['result'])\n",
    "            return (result['Exchange'], result['Type'], result['Price'], result['Quantity'], result['QuanitiyRemaining'], result['Opened'])\n",
    "        else:\n",
    "            raise Exception('Unsucessful Request')\n",
    "            return None\n",
    "    \n",
    "    def getOrderHistory(self, base, market):\n",
    "        url = account_url + 'getorderhistory' + api_url + '?market=' + base + '-' + market\n",
    "        r = urllib.request.urlopen(url)\n",
    "        if json.loads(r.read())['sucess']:\n",
    "            result = json.loads(json.loads(r.read())['result'])\n",
    "            orders = []\n",
    "            for order in result:\n",
    "                orders.append(result['OrderType'], result['Price'], result['Quantity'], result['QuanitiyRemaining'], result['TimeStamp'])\n",
    "        else:\n",
    "            raise Exception('Unsucessful Request')\n",
    "            return None\n",
    "    \n",
    "    \n",
    "    def market_stream(self, currency, market, interval_min, frequency_sec):\n",
    "        iterations = int(interval_min * 60 / frequency_sec)\n",
    "        price_data = []\n",
    "        time_log = []\n",
    "        day = datetime.datetime.now().day\n",
    "        for i in range(0, iterations):\n",
    "            price_data.append(round(public_query('getticker', currency, market)['Last'], 10))\n",
    "            time_log.append((datetime.datetime.now().minute, datetime.datetime.now().second))\n",
    "            time.sleep(frequency_sec)\n",
    "        return price_data, time_log, day"
   ]
  },
  {
   "cell_type": "markdown",
   "metadata": {},
   "source": [
    "# Database"
   ]
  },
  {
   "cell_type": "code",
   "execution_count": 22,
   "metadata": {
    "collapsed": false
   },
   "outputs": [],
   "source": [
    "db_conn = sql.connect('bittrex.db')\n",
    "db_curs = db_conn.cursor()\n",
    "\n",
    "db_curs.execute(\"\"\"\n",
    "    CREATE TABLE bittrex (\n",
    "        base text,\n",
    "        market text,\n",
    "        current_price real,\n",
    "        hour_moving_avg real,\n",
    "        daily_moving_avg real,\n",
    "        weekly_moving_avg real,\n",
    "        buy_inflection real,\n",
    "        sell_inflection real,\n",
    "        stop_loss real,\n",
    "        taget_price real\n",
    "        )\n",
    "\"\"\")\n",
    "\n",
    "\n",
    "db_conn.commit()\n",
    "db_conn.close()"
   ]
  },
  {
   "cell_type": "markdown",
   "metadata": {
    "collapsed": true
   },
   "source": [
    "# Poloniex"
   ]
  },
  {
   "cell_type": "markdown",
   "metadata": {},
   "source": [
    "### Poloniex Wrapper"
   ]
  },
  {
   "cell_type": "code",
   "execution_count": 15,
   "metadata": {
    "collapsed": true
   },
   "outputs": [],
   "source": [
    "def poloniex_date_to_UNIX(date):\n",
    "    # date in format yr-mo-dy hr:mi:se\n",
    "    date = str(date)\n",
    "    year = int(date[:4])\n",
    "    month = int(date[5:-12])\n",
    "    day = int(date[8:-9])\n",
    "    hour = int(date[11:-6])\n",
    "    minute = int(date[14:-3])\n",
    "    second = int(date[17:])\n",
    "    dt = datetime.datetime(year, month, day, hour, minute, second, 0)\n",
    "    UNIX = time.mktime(dt.timetuple())\n",
    "    UNIX = str(UNIX)[:-2]\n",
    "    return UNIX\n",
    "\n",
    "def return_trade_history_by_time (market, currency, start_date, end_date):\n",
    "        r = urllib.request.urlopen('https://poloniex.com/public?command=returnTradeHistory&currencyPair=' + market + '_' + currency + '&start=' + str(poloniex_date_to_UNIX(start_date)) + '&end=' + str(poloniex_date_to_UNIX(end_date)))\n",
    "        return json.loads(r.read())\n",
    "\n",
    "def get_trade_history(market, currency, changing_date, end_date, prev_date = None, writer = None):\n",
    "    if writer is None:\n",
    "        keys = {'globalTradeID': 15429515, 'tradeID': 1013613, 'date': '2016-02-10 04:15:21', 'type': 'sell', 'rate': '0.00795108', 'amount': '0.81580000', 'total': '0.00648649'}.keys()\n",
    "        f = open(market + '_' + currency + '_dates.csv', 'w+')\n",
    "        writer = csv.DictWriter(f, keys)\n",
    "        writer.writeheader()\n",
    "    if changing_date == end_date or prev_date == end_date:\n",
    "        return None\n",
    "    else:\n",
    "        trades = return_trade_history_by_time(market, currency, changing_date, end_date)\n",
    "        if (len(trades) > 1):   \n",
    "            writer.writerows(trades)\n",
    "            recent_date = str(trades[-1]['date'])\n",
    "            get_trade_history(market, currency, recent_date, end_date, changing_date, writer)\n",
    "        else:\n",
    "            return None"
   ]
  },
  {
   "cell_type": "code",
   "execution_count": null,
   "metadata": {
    "collapsed": true
   },
   "outputs": [],
   "source": []
  }
 ],
 "metadata": {
  "kernelspec": {
   "display_name": "Python 3",
   "language": "python",
   "name": "python3"
  },
  "language_info": {
   "codemirror_mode": {
    "name": "ipython",
    "version": 3
   },
   "file_extension": ".py",
   "mimetype": "text/x-python",
   "name": "python",
   "nbconvert_exporter": "python",
   "pygments_lexer": "ipython3",
   "version": "3.6.0"
  }
 },
 "nbformat": 4,
 "nbformat_minor": 2
}
